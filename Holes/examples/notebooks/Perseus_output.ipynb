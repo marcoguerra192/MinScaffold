{
 "cells": [
  {
   "cell_type": "code",
   "execution_count": 9,
   "metadata": {},
   "outputs": [],
   "source": [
    "import os, sys\n",
    "import networkx as nx\n",
    "sys.path.append('../../../')\n",
    "import Holes as ho\n",
    "import pickle as pk\n",
    "import matplotlib.pyplot as plt\n",
    "import numpy as np\n",
    "%matplotlib inline"
   ]
  },
  {
   "cell_type": "markdown",
   "metadata": {},
   "source": [
    "Read the network in a graph object:"
   ]
  },
  {
   "cell_type": "code",
   "execution_count": 3,
   "metadata": {},
   "outputs": [
    {
     "name": "stderr",
     "output_type": "stream",
     "text": [
      "/home/marco/.local/lib/python3.5/site-packages/networkx/drawing/nx_pylab.py:611: MatplotlibDeprecationWarning: isinstance(..., numbers.Number)\n",
      "  if cb.is_numlike(alpha):\n"
     ]
    },
    {
     "data": {
      "image/png": "[encoded data removed]",
      "text/plain": [
       "<Figure size 432x288 with 1 Axes>"
      ]
     },
     "metadata": {
      "needs_background": "light"
     },
     "output_type": "display_data"
    }
   ],
   "source": [
    "G = nx.Graph()\n",
    "G.add_edge(0,1,weight=5)\n",
    "G.add_edge(1,2,weight=5)\n",
    "G.add_edge(2,3,weight=5)\n",
    "G.add_edge(3,4,weight=5)\n",
    "G.add_edge(4,5,weight=5)\n",
    "G.add_edge(0,5,weight=5)\n",
    "G.add_edge(1,3,weight=2)\n",
    "G.add_edge(1,5,weight=3)\n",
    "G.add_edge(1,4,weight=4);\n",
    "pos = nx.spring_layout(G);\n",
    "nx.draw_networkx(G, pos);\n",
    "nx.draw_networkx_edges(G, pos);\n",
    "nx.draw_networkx_edge_labels(G,pos,edge_labels=nx.get_edge_attributes(G,'weight'));\n",
    "#G.add_edge(4,100,weight=1)"
   ]
  },
  {
   "cell_type": "code",
   "execution_count": 4,
   "metadata": {},
   "outputs": [
    {
     "name": "stdout",
     "output_type": "stream",
     "text": [
      "Preliminary scan of edge weights to define filtration steps...\n",
      "Constructing filtration...\n",
      "Max filtration value: 3\n",
      "Clique dictionary created.\n"
     ]
    }
   ],
   "source": [
    "fil = ho.filtrations.standard_weight_clique_rank_filtration(G)"
   ]
  },
  {
   "cell_type": "code",
   "execution_count": 5,
   "metadata": {},
   "outputs": [
    {
     "data": {
      "text/plain": [
       "{'[0, 1, 5]': ['2', '3'],\n",
       " '[0, 1]': ['0', '5'],\n",
       " '[0, 5]': ['0', '5'],\n",
       " '[0]': ['0', '5'],\n",
       " '[1, 2, 3]': ['3', '2'],\n",
       " '[1, 2]': ['0', '5'],\n",
       " '[1, 3, 4]': ['3', '2'],\n",
       " '[1, 3]': ['3', '2'],\n",
       " '[1, 4, 5]': ['2', '3'],\n",
       " '[1, 4]': ['1', '4'],\n",
       " '[1, 5]': ['2', '3'],\n",
       " '[1]': ['0', '5'],\n",
       " '[2, 3]': ['0', '5'],\n",
       " '[2]': ['0', '5'],\n",
       " '[3, 4]': ['0', '5'],\n",
       " '[3]': ['0', '5'],\n",
       " '[4, 5]': ['0', '5'],\n",
       " '[4]': ['0', '5'],\n",
       " '[5]': ['0', '5']}"
      ]
     },
     "execution_count": 5,
     "metadata": {},
     "output_type": "execute_result"
    }
   ],
   "source": [
    "fil"
   ]
  },
  {
   "cell_type": "code",
   "execution_count": 6,
   "metadata": {},
   "outputs": [],
   "source": [
    "outfile = 'output_perseus/perseus_filtration_file.txt'\n",
    "if os.path.exists(outfile):\n",
    "    os.remove(outfile);\n",
    "ho.write_perseus_filtration(fil,outfile)"
   ]
  },
  {
   "cell_type": "code",
   "execution_count": 7,
   "metadata": {},
   "outputs": [],
   "source": [
    "def perseus_intervals(betti_file,infinite_or_not=1):\n",
    "    '''\n",
    "    This is a brute Python translation of Vidit Nanda's original Matlab script.\n",
    "    \n",
    "    \n",
    "    output_file: name of file containing the perseus output\n",
    "    plot_type: 0 plots ALL intervals\n",
    "               1 plots only intervals that die\n",
    "    '''\n",
    "    \n",
    "    \n",
    "    # extract birth and death indices\n",
    "    ints = np.genfromtxt(betti_file);\n",
    "\n",
    "    # extract indices of those intervals which die\n",
    "    if infinite_or_not==False:\n",
    "        ints = ints[deaths != -1];\n",
    "    return ints;"
   ]
  },
  {
   "cell_type": "code",
   "execution_count": 10,
   "metadata": {},
   "outputs": [],
   "source": [
    "intervals = perseus_intervals('../notebooks/output_perseus/output_1.txt')"
   ]
  },
  {
   "cell_type": "code",
   "execution_count": 11,
   "metadata": {},
   "outputs": [
    {
     "data": {
      "text/plain": [
       "array([[2., 3.],\n",
       "       [1., 4.]])"
      ]
     },
     "execution_count": 11,
     "metadata": {},
     "output_type": "execute_result"
    }
   ],
   "source": [
    "intervals"
   ]
  },
  {
   "cell_type": "code",
   "execution_count": null,
   "metadata": {},
   "outputs": [],
   "source": []
  }
 ],
 "metadata": {
  "kernelspec": {
   "display_name": "Python 3",
   "language": "python",
   "name": "python3"
  },
  "language_info": {
   "codemirror_mode": {
    "name": "ipython",
    "version": 3
   },
   "file_extension": ".py",
   "mimetype": "text/x-python",
   "name": "python",
   "nbconvert_exporter": "python",
   "pygments_lexer": "ipython3",
   "version": "3.5.2"
  }
 },
 "nbformat": 4,
 "nbformat_minor": 1
}
