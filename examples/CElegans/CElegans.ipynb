{
 "cells": [
  {
   "cell_type": "markdown",
   "metadata": {},
   "source": [
    "# C. Elegans\n",
    "In this notebook we analyze a correlation network of neural activations of the nematode worm Caenorhabditis Elegans. C. Elegans has become a model organism due to the unique characteristic of each individual sharing the exact same nervous system structure. <br>\n",
    "The minimal homological scaffold of its brain map highlights the *geometry* of the obstruction patterns, i.e. the precise areas where nervous stimuli are less likely to flow. <br>\n",
    "Data courtesy of __[G.Petri](https://github.com/lordgrilo/Holes)__."
   ]
  },
  {
   "cell_type": "markdown",
   "metadata": {},
   "source": [
    "Import the libraries"
   ]
  },
  {
   "cell_type": "code",
   "execution_count": 5,
   "metadata": {},
   "outputs": [],
   "source": [
    "# source files are two folders above\n",
    "import sys\n",
    "sys.path.append('../../src')\n",
    "\n",
    "import Driver\n",
    "import Geometry\n",
    "import Scaffold\n",
    "\n",
    "import math\n",
    "import numpy as np\n",
    "from random import random\n",
    "import networkx as nx\n",
    "import pickle as pk\n",
    "import matplotlib.pyplot as plt\n",
    "\n",
    "sys.path.append('../../')\n",
    "import Holes as ho"
   ]
  },
  {
   "cell_type": "markdown",
   "metadata": {},
   "source": [
    "Data is stored as a *networkx* graph."
   ]
  },
  {
   "cell_type": "code",
   "execution_count": 9,
   "metadata": {},
   "outputs": [
    {
     "name": "stderr",
     "output_type": "stream",
     "text": [
      "/usr/local/lib/python3.7/site-packages/ipykernel_launcher.py:7: RuntimeWarning: divide by zero encountered in reciprocal\n",
      "  import sys\n"
     ]
    }
   ],
   "source": [
    "G = nx.read_weighted_edgelist('./celegans_weighted_undirected.edges')\n",
    "\n",
    "# convert to weighted adj matrix\n",
    "W = nx.adjacency_matrix(G,weight='weight').todense()\n",
    "\n",
    "# invert correlations to obtain a distance\n",
    "W = np.reciprocal(W)\n",
    "W[W==np.inf] = 0 # revert inf to zeros\n",
    "\n",
    "# build the correct graph\n",
    "G = nx.Graph(W)"
   ]
  },
  {
   "cell_type": "markdown",
   "metadata": {},
   "source": [
    "Set the number of nodes"
   ]
  },
  {
   "cell_type": "code",
   "execution_count": 10,
   "metadata": {},
   "outputs": [],
   "source": [
    "NV = G.number_of_nodes()"
   ]
  },
  {
   "cell_type": "markdown",
   "metadata": {},
   "source": [
    "### Holes\n",
    "We first compute the loose scaffold."
   ]
  },
  {
   "cell_type": "code",
   "execution_count": 11,
   "metadata": {},
   "outputs": [
    {
     "name": "stdout",
     "output_type": "stream",
     "text": [
      "Preliminary scan of edge weights to define filtration steps...\n",
      "Constructing filtration...\n",
      "Max filtration value: 30\n",
      "Clique dictionary created.\n",
      "Calling: jython  ../../Holes/jython_utils/persistent_homology_calculation.py ./celegans_filtration.pck 1 ./ celegans_ /Users/marco/javaplex/ True\n",
      "0\n"
     ]
    },
    {
     "name": "stderr",
     "output_type": "stream",
     "text": [
      "Child returned 0\n"
     ]
    }
   ],
   "source": [
    "# Compute the filtration\n",
    "fil = ho.filtrations.upward_weight_clique_rank_filtration(G)\n",
    "clique_dictionary_file = './celegans_filtration.pck'\n",
    "pk.dump(fil,open(clique_dictionary_file,'wb'), protocol=2)\n",
    "\n",
    "hom_dim = 1\n",
    "dataset_tag = 'celegans'\n",
    "output_dir = './';\n",
    "\n",
    "# Compute the generators\n",
    "ho.persistent_homology_calculation(clique_dictionary_file, hom_dim, dataset_tag, output_dir,m1=512, m2=2048,save_generators=True)\n",
    "\n",
    "# Dump the results in this file\n",
    "gen_file = './gen/generators_celegans_.pck'\n",
    "gen = pk.load(open(gen_file, 'rb'))"
   ]
  },
  {
   "cell_type": "markdown",
   "metadata": {},
   "source": [
    "Aggregate the homological scaffold and write it to file."
   ]
  },
  {
   "cell_type": "code",
   "execution_count": 13,
   "metadata": {},
   "outputs": [],
   "source": [
    "ScafH = nx.Graph()\n",
    "ScafH.add_nodes_from(G)\n",
    "\n",
    "edges = []\n",
    "\n",
    "for c in gen[1]:\n",
    "    edges.extend(c.cycles())\n",
    "    \n",
    "for e in edges:\n",
    "    u , v = int(e[0]) , int(e[1])\n",
    "    if ScafH.has_edge(u,v):\n",
    "        ScafH[u][v]['weight'] += 1\n",
    "    else:\n",
    "        ScafH.add_edge(u, v, weight=1)\n",
    "\n",
    "# Write scaffold to file    \n",
    "out_file = './Scaffolds/JPScaffold.pck'\n",
    "pk.dump(ScafH, open(out_file,'wb'))"
   ]
  },
  {
   "cell_type": "markdown",
   "metadata": {},
   "source": [
    "Draw the loose scaffold."
   ]
  },
  {
   "cell_type": "code",
   "execution_count": 14,
   "metadata": {},
   "outputs": [
    {
     "name": "stderr",
     "output_type": "stream",
     "text": [
      "/usr/local/lib/python3.7/site-packages/networkx/drawing/nx_pylab.py:611: MatplotlibDeprecationWarning: isinstance(..., numbers.Number)\n",
      "  if cb.is_numlike(alpha):\n"
     ]
    },
    {
     "data": {
      "image/png": "[encoded data removed]",
      "text/plain": [
       "<Figure size 432x288 with 1 Axes>"
      ]
     },
     "metadata": {},
     "output_type": "display_data"
    }
   ],
   "source": [
    "nx.draw(ScafH, node_size=5)"
   ]
  },
  {
   "cell_type": "markdown",
   "metadata": {},
   "source": [
    "### Minimal Scaffold\n",
    "Now compute the minimal homological scaffold of the same network. <br>\n",
    "This, on a desktop machine, is extremely computationally heavy. The progress can be visualized by printing the content of file `monitor` in a shell."
   ]
  },
  {
   "cell_type": "code",
   "execution_count": 22,
   "metadata": {},
   "outputs": [],
   "source": [
    "# get filtration steps\n",
    "epsList = Geometry.genFullEpsList(W)\n",
    "\n",
    "# Knowing in advance which subset of the filtration has nontrivial homology,\n",
    "# one could slice it to avoid useless computations\n",
    "pass\n",
    "\n",
    "# set tracking output file\n",
    "out_file = './monitor'\n",
    "\n",
    "# now the heavy-lifting\n",
    "Filtr = Driver.getFiltrBasis(W, epsList, Draws=True, parallel=True,monitor='./monitor')"
   ]
  },
  {
   "cell_type": "markdown",
   "metadata": {},
   "source": [
    "Write the filtration to disk, so one can read it next time and does not have to compute it again!"
   ]
  },
  {
   "cell_type": "code",
   "execution_count": 23,
   "metadata": {},
   "outputs": [],
   "source": [
    "# dump the filtration of SHB \n",
    "filtr_out = './gen/CEMinFiltr.pck'\n",
    "pk.dump(Filtr, open(filtr_out,'wb'))"
   ]
  },
  {
   "cell_type": "markdown",
   "metadata": {},
   "source": [
    "Next aggregate the minimal scaffold."
   ]
  },
  {
   "cell_type": "code",
   "execution_count": 25,
   "metadata": {},
   "outputs": [],
   "source": [
    "S = Scaffold.frequency_Scaffold(Filtr , NV)\n",
    "Scaf = nx.from_numpy_matrix(S, parallel_edges=False)\n",
    "\n",
    "out_file = './Scaffolds/MinScaffold.pck'\n",
    "pk.dump(Scaf, open(out_file,'wb'))"
   ]
  },
  {
   "cell_type": "markdown",
   "metadata": {},
   "source": [
    "Draw the scaffold."
   ]
  },
  {
   "cell_type": "code",
   "execution_count": 26,
   "metadata": {},
   "outputs": [
    {
     "data": {
      "image/png": "[encoded data removed]",
      "text/plain": [
       "<Figure size 432x288 with 1 Axes>"
      ]
     },
     "metadata": {},
     "output_type": "display_data"
    }
   ],
   "source": [
    "nx.draw(Scaf, node_size=5)"
   ]
  }
 ],
 "metadata": {
  "kernelspec": {
   "display_name": "Python 3",
   "language": "python",
   "name": "python3"
  },
  "language_info": {
   "codemirror_mode": {
    "name": "ipython",
    "version": 3
   },
   "file_extension": ".py",
   "mimetype": "text/x-python",
   "name": "python",
   "nbconvert_exporter": "python",
   "pygments_lexer": "ipython3",
   "version": "3.7.2"
  }
 },
 "nbformat": 4,
 "nbformat_minor": 2
}
